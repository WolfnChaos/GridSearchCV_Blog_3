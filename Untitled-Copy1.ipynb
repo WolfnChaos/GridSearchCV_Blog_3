{
 "cells": [
  {
   "cell_type": "code",
   "execution_count": 1,
   "metadata": {},
   "outputs": [],
   "source": [
    "# Import needed packages.\n",
    "import pandas as pd\n",
    "from sklearn.datasets import load_digits\n",
    "from sklearn.model_selection import train_test_split, GridSearchCV\n",
    "from sklearn.preprocessing import StandardScaler, OrdinalEncoder\n",
    "from sklearn.compose import ColumnTransformer\n",
    "from sklearn.pipeline import Pipeline\n",
    "from sklearn.neighbors import KNeighborsClassifier\n",
    "from sklearn.metrics import plot_confusion_matrix, log_loss, accuracy_score, precision_score, recall_score"
   ]
  },
  {
   "cell_type": "code",
   "execution_count": 2,
   "metadata": {},
   "outputs": [
    {
     "name": "stdout",
     "output_type": "stream",
     "text": [
      "<class 'pandas.core.frame.DataFrame'>\n",
      "RangeIndex: 38691 entries, 0 to 38690\n",
      "Data columns (total 12 columns):\n",
      " #   Column                 Non-Null Count  Dtype  \n",
      "---  ------                 --------------  -----  \n",
      " 0   Unnamed: 0             38691 non-null  int64  \n",
      " 1   gps_height             38691 non-null  int64  \n",
      " 2   longitude              38691 non-null  float64\n",
      " 3   latitude               38691 non-null  float64\n",
      " 4   region                 38691 non-null  object \n",
      " 5   construction_year      38691 non-null  int64  \n",
      " 6   extraction_type_class  38691 non-null  object \n",
      " 7   quality_group          38691 non-null  object \n",
      " 8   quantity_group         38691 non-null  object \n",
      " 9   source_class           38691 non-null  object \n",
      " 10  waterpoint_type_group  38691 non-null  object \n",
      " 11  status_group           38691 non-null  object \n",
      "dtypes: float64(2), int64(3), object(7)\n",
      "memory usage: 3.5+ MB\n"
     ]
    }
   ],
   "source": [
    "# Read are file as a datafrome and call info() on it.\n",
    "pumps = pd.read_csv('pumps.csv')\n",
    "pumps.info()"
   ]
  },
  {
   "cell_type": "code",
   "execution_count": 3,
   "metadata": {},
   "outputs": [],
   "source": [
    "# Separate are target into y, and are feathers into X.\n",
    "X = pumps.drop('status_group', axis=1)\n",
    "y = pumps['status_group']\n",
    "\n",
    "# Split are data using train_test_split.\n",
    "X_train, X_test, y_train, y_test = train_test_split(X, y, random_state=123)"
   ]
  },
  {
   "cell_type": "code",
   "execution_count": 4,
   "metadata": {},
   "outputs": [],
   "source": [
    "# Numeric fearures from the data set.\n",
    "numeric_features = ['gps_height', 'longitude', 'latitude', 'construction_year']\n",
    "\n",
    "# Categorical fearures from the data set.\n",
    "categorical_features = ['region','extraction_type_class', 'quality_group','quantity_group', \n",
    "                        'source_class', 'waterpoint_type_group']"
   ]
  },
  {
   "cell_type": "code",
   "execution_count": 5,
   "metadata": {},
   "outputs": [],
   "source": [
    "# Setting up are numeric and cartegorical transformers.\n",
    "numeric_transformer = StandardScaler()\n",
    "categorical_transformer = OrdinalEncoder()\n",
    "\n",
    "# Using ColumnTransformer to trasformer the columns to avoid data leakage.\n",
    "preprocessor = ColumnTransformer(transformers=[('numeric', numeric_transformer, numeric_features),\n",
    "                                               ('categorical', categorical_transformer, categorical_features)])"
   ]
  },
  {
   "cell_type": "code",
   "execution_count": 6,
   "metadata": {
    "scrolled": true
   },
   "outputs": [],
   "source": [
    "# Transformer the data for the baseline model.\n",
    "X_train_transformed = preprocessor.fit_transform(X_train)\n",
    "X_test_transformed = preprocessor.transform(X_test)"
   ]
  },
  {
   "cell_type": "code",
   "execution_count": 7,
   "metadata": {},
   "outputs": [
    {
     "data": {
      "text/plain": [
       "KNeighborsClassifier()"
      ]
     },
     "execution_count": 7,
     "metadata": {},
     "output_type": "execute_result"
    }
   ],
   "source": [
    "# Set up the emulator and fit it to are train data.\n",
    "baseline_model = KNeighborsClassifier()\n",
    "baseline_model.fit(X_train_transformed, y_train)"
   ]
  },
  {
   "cell_type": "code",
   "execution_count": 8,
   "metadata": {},
   "outputs": [],
   "source": [
    "# Use the test data to get the predict and proda values.\n",
    "baseline_preds = baseline_model.predict(X_test_transformed)\n",
    "baseline_probs = baseline_model.predict_proba(X_test_transformed)"
   ]
  },
  {
   "cell_type": "code",
   "execution_count": 9,
   "metadata": {},
   "outputs": [
    {
     "name": "stdout",
     "output_type": "stream",
     "text": [
      "log loss:  2.4425470876112376\n",
      "accuracy:  0.7752506978186705\n",
      "precision: 0.6741634090355778\n",
      "recall:    0.6092336392170415\n"
     ]
    }
   ],
   "source": [
    "# Print out the scores from the baseline model.\n",
    "print(\"log loss: \", log_loss(y_test, baseline_probs))\n",
    "print(\"accuracy: \", accuracy_score(y_test, baseline_preds))\n",
    "print(\"precision:\", precision_score(y_test, baseline_preds, average='macro'))\n",
    "print(\"recall:   \", recall_score(y_test, baseline_preds, average='macro'))"
   ]
  },
  {
   "cell_type": "code",
   "execution_count": 24,
   "metadata": {},
   "outputs": [
    {
     "data": {
      "text/plain": [
       "GridSearchCV(cv=3,\n",
       "             estimator=Pipeline(steps=[('preprocessor',\n",
       "                                        ColumnTransformer(transformers=[('numeric',\n",
       "                                                                         StandardScaler(),\n",
       "                                                                         ['gps_height',\n",
       "                                                                          'longitude',\n",
       "                                                                          'latitude',\n",
       "                                                                          'construction_year']),\n",
       "                                                                        ('categorical',\n",
       "                                                                         OrdinalEncoder(),\n",
       "                                                                         ['region',\n",
       "                                                                          'extraction_type_class',\n",
       "                                                                          'quality_group',\n",
       "                                                                          'quantity_group',\n",
       "                                                                          'source_class',\n",
       "                                                                          'waterpoint_type_group'])])),\n",
       "                                       ('model', KNeighborsClassifier())]),\n",
       "             param_grid={'model__n_neighbors': [3, 5, 10], 'model__p': [1, 2],\n",
       "                         'model__weights': ['uniform', 'distance']})"
      ]
     },
     "execution_count": 24,
     "metadata": {},
     "output_type": "execute_result"
    }
   ],
   "source": [
    "# Using pilelines to avoid data leakage.\n",
    "pileline = Pipeline([('preprocessor', preprocessor), \n",
    "                     ('model', KNeighborsClassifier())])\n",
    "\n",
    "# Seting up the grid for the hyperparameters to tune.\n",
    "grid = {'model__n_neighbors': [3, 5, 10], \n",
    "        'model__weights': ['uniform', 'distance'], \n",
    "        'model__p': [1, 2]}\n",
    "\n",
    "# Seting up GridSearchCV and fitting it to the train data.\n",
    "gs = GridSearchCV(pileline, grid, cv=3)\n",
    "gs.fit(X_train, y_train)"
   ]
  },
  {
   "cell_type": "code",
   "execution_count": 25,
   "metadata": {},
   "outputs": [
    {
     "data": {
      "text/plain": [
       "array([0.77255493, 0.76628293, 0.77024598, 0.76321581, 0.77320966,\n",
       "       0.77593208, 0.76886746, 0.77107307, 0.76338828, 0.78079123,\n",
       "       0.75987325, 0.77837888])"
      ]
     },
     "execution_count": 25,
     "metadata": {},
     "output_type": "execute_result"
    }
   ],
   "source": [
    "# Lets take a look at how the models did by checking the mean_test_score.\n",
    "gs.cv_results_['mean_test_score']"
   ]
  },
  {
   "cell_type": "code",
   "execution_count": 12,
   "metadata": {},
   "outputs": [
    {
     "data": {
      "text/plain": [
       "{'model__n_neighbors': 10, 'model__p': 1, 'model__weights': 'distance'}"
      ]
     },
     "execution_count": 12,
     "metadata": {},
     "output_type": "execute_result"
    }
   ],
   "source": [
    "# Getting the best params.\n",
    "gs.best_params_"
   ]
  },
  {
   "cell_type": "code",
   "execution_count": 13,
   "metadata": {},
   "outputs": [
    {
     "data": {
      "text/plain": [
       "Pipeline(steps=[('preprocessor',\n",
       "                 ColumnTransformer(transformers=[('numeric', StandardScaler(),\n",
       "                                                  ['gps_height', 'longitude',\n",
       "                                                   'latitude',\n",
       "                                                   'construction_year']),\n",
       "                                                 ('categorical',\n",
       "                                                  OrdinalEncoder(),\n",
       "                                                  ['region',\n",
       "                                                   'extraction_type_class',\n",
       "                                                   'quality_group',\n",
       "                                                   'quantity_group',\n",
       "                                                   'source_class',\n",
       "                                                   'waterpoint_type_group'])])),\n",
       "                ('model',\n",
       "                 KNeighborsClassifier(n_neighbors=10, p=1,\n",
       "                                      weights='distance'))])"
      ]
     },
     "execution_count": 13,
     "metadata": {},
     "output_type": "execute_result"
    }
   ],
   "source": [
    "# Setting up are finak_model with best params and fitting it to the train data.\n",
    "final_model = Pipeline([('preprocessor', preprocessor), \n",
    "                     ('model', KNeighborsClassifier(n_neighbors=10, p=1, weights='distance'))])\n",
    "final_model.fit(X_train, y_train)"
   ]
  },
  {
   "cell_type": "code",
   "execution_count": 14,
   "metadata": {},
   "outputs": [],
   "source": [
    "# Use the test data to get the predict and proda values for are finak model.\n",
    "final_preds = final_model.predict(X_test)\n",
    "final_probs = final_model.predict_proba(X_test)"
   ]
  },
  {
   "cell_type": "code",
   "execution_count": 15,
   "metadata": {},
   "outputs": [
    {
     "name": "stdout",
     "output_type": "stream",
     "text": [
      "log loss:  1.3639695881157894\n",
      "accuracy:  0.7880698852475964\n",
      "precision: 0.6808749366543022\n",
      "recall:    0.629896151383022\n"
     ]
    }
   ],
   "source": [
    "# Print out the scores from the final model.\n",
    "print(\"log loss: \", log_loss(y_test, final_probs))\n",
    "print(\"accuracy: \", accuracy_score(y_test, final_preds))\n",
    "print(\"precision:\", precision_score(y_test, final_preds, average='macro'))\n",
    "print(\"recall:   \", recall_score(y_test, final_preds, average='macro'))"
   ]
  },
  {
   "cell_type": "code",
   "execution_count": null,
   "metadata": {},
   "outputs": [],
   "source": []
  }
 ],
 "metadata": {
  "kernelspec": {
   "display_name": "Python (learn-env)",
   "language": "python",
   "name": "learn-env"
  },
  "language_info": {
   "codemirror_mode": {
    "name": "ipython",
    "version": 3
   },
   "file_extension": ".py",
   "mimetype": "text/x-python",
   "name": "python",
   "nbconvert_exporter": "python",
   "pygments_lexer": "ipython3",
   "version": "3.8.5"
  }
 },
 "nbformat": 4,
 "nbformat_minor": 4
}
